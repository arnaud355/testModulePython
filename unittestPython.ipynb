{
 "cells": [
  {
   "cell_type": "code",
   "execution_count": 9,
   "metadata": {},
   "outputs": [],
   "source": [
    "import random\n",
    "import unittest"
   ]
  },
  {
   "cell_type": "code",
   "execution_count": null,
   "metadata": {},
   "outputs": [],
   "source": [
    "#Pour créer un test unitaire, la première chose est de créer une classe héritant de unittest.TestCase\n",
    "\n",
    "#On peut définir ensuite un test dans une méthode dont le nom commence par test"
   ]
  },
  {
   "cell_type": "code",
   "execution_count": 53,
   "metadata": {},
   "outputs": [],
   "source": [
    "class RandomTest(unittest.TestCase):\n",
    "    \n",
    "    def setUp(self):\n",
    "        \"\"\"Initialisation des tests.\"\"\"\n",
    "        #La classe setUp permet de donner une définition pour une variable que l'on utilise pour une même classe\n",
    "        self.liste = list(range(10))\n",
    "\n",
    "    \"\"\"Test case utilisé pour tester les fonctions du module 'random'.\"\"\"\n",
    "\n",
    "    def test_choice(self):\n",
    "        \"\"\"Test le fonctionnement de la fonction 'random.choice'.\"\"\"\n",
    "        elt = random.choice(self.liste)\n",
    "        # Vérifie que 'elt' est dans 'liste'\n",
    "        self.assertIn(elt, self.liste)\n",
    "        #self.assertIn(elt, ('a', 'b', 'c'))\n",
    "        \n",
    "    def test_shuffle(self):\n",
    "        \"\"\"Test le fonctionnement de la fonction 'random.suffle'.\"\"\"\n",
    "        random.shuffle(self.liste)\n",
    "        self.liste.sort()\n",
    "        self.assertEqual(self.liste,list(range(10)))\n",
    "        \n",
    "    # Autres méthodes de test\n",
    "    def test_sample(self):\n",
    "        \"\"\"Test le fonctionnement de la fonction 'random.sample'.\"\"\"\n",
    "        extrait = random.sample(self.liste,6)\n",
    "        for element in extrait:\n",
    "            self.assertIn(element,self.liste)\n",
    "            #assertRaise : Vérifie que la fonction lève l'exception attendue.\n",
    "            #1er méthode :\n",
    "            #self.assertRaises(ValueError, random.sample, liste, 20)\n",
    "            #autre manière :\n",
    "            with self.assertRaises(ValueError):\n",
    "                random.sample(self.liste, 20)"
   ]
  },
  {
   "cell_type": "code",
   "execution_count": null,
   "metadata": {},
   "outputs": [],
   "source": [
    "\"\"\"\n",
    "il faut faire appel à : unittest.main(), via console. Dans le cadre d'un jupyter notebook Erreur :The reason is \n",
    "that unittest.main looks at sys.argv and first parameter is what started IPython or Jupyter, \n",
    "therefore the error about kernel connection file not being a valid attribute. \n",
    "Passing explicit list to unittest.main will prevent IPython and Jupyter look at sys.argv.\n",
    "Passing exit=Fals will prevent unittest.main to shutdown the kernell process\n",
    "\"\"\""
   ]
  },
  {
   "cell_type": "code",
   "execution_count": 54,
   "metadata": {},
   "outputs": [
    {
     "name": "stderr",
     "output_type": "stream",
     "text": [
      "...\n",
      "----------------------------------------------------------------------\n",
      "Ran 3 tests in 0.004s\n",
      "\n",
      "OK\n"
     ]
    }
   ],
   "source": [
    "if __name__ == '__main__':\n",
    "    unittest.main(argv=['first-arg-is-ignored'], exit=False)"
   ]
  },
  {
   "cell_type": "code",
   "execution_count": null,
   "metadata": {},
   "outputs": [],
   "source": [
    "\"\"\"\n",
    "Le code de test a été mis dans test_random.py, via cmd anaconda, se placer dans dossier et faire: python -m unittest\n",
    "L'option -m permet d'exécuter un module spécifique (ici unittest). Quand appelé directement depuis Python,\n",
    "unittest cherche les tests unitaires présents dans le dossier courant. \n",
    "Vous pouvez aussi lui donner un chemin de test à exécuter, par exemple test_random.RandomTest.test_shuffle :\n",
    "\n",
    "1) test_random est le nom du module (le nom du fichier sans l'extension) ;\n",
    "\n",
    "2) RandomTest est le nom de la classe dans notre module ;\n",
    "\n",
    "3) test_shuffle est le nom de notre méthode à exécuter.\n",
    "\"\"\""
   ]
  },
  {
   "cell_type": "code",
   "execution_count": 37,
   "metadata": {},
   "outputs": [
    {
     "data": {
      "text/plain": [
       "'\\nLes principaux caractères sont un point (\".\") si le test s\\'est validé, la lettre F si le test n\\'a \\npas obtenu le bon résultat et la lettre E si le test a rencontré une erreur (si une exception \\na été levée pendant l\\'exécution de la méthode) ;\\n\\nEnsuite se trouve une ligne récapitulative du nombre de tests exécutés ;\\n\\nEnfin, la dernière ligne récapitule le nombre de réussites ou échecs ou erreurs. \\nSi tout va bien, cette dernière ligne devrait être simplement \"OK\"\\n'"
      ]
     },
     "execution_count": 37,
     "metadata": {},
     "output_type": "execute_result"
    }
   ],
   "source": [
    "\"\"\"\n",
    "Les principaux caractères sont un point (\".\") si le test s'est validé, la lettre F si le test n'a \n",
    "pas obtenu le bon résultat et la lettre E si le test a rencontré une erreur (si une exception \n",
    "a été levée pendant l'exécution de la méthode) ;\n",
    "\n",
    "Ensuite se trouve une ligne récapitulative du nombre de tests exécutés ;\n",
    "\n",
    "Enfin, la dernière ligne récapitule le nombre de réussites ou échecs ou erreurs. \n",
    "Si tout va bien, cette dernière ligne devrait être simplement \"OK\"\n",
    "\"\"\""
   ]
  },
  {
   "cell_type": "code",
   "execution_count": null,
   "metadata": {},
   "outputs": [],
   "source": []
  },
  {
   "cell_type": "code",
   "execution_count": 4,
   "metadata": {},
   "outputs": [
    {
     "data": {
      "text/plain": [
       "'chien'"
      ]
     },
     "execution_count": 4,
     "metadata": {},
     "output_type": "execute_result"
    }
   ],
   "source": [
    "liste = [\"chat\", \"chien\", \"renard\", \"serpent\", \"cheval\", \"parapluie\"]\n",
    "#choix aléatoire\n",
    "random.choice(liste)"
   ]
  },
  {
   "cell_type": "code",
   "execution_count": 18,
   "metadata": {},
   "outputs": [
    {
     "data": {
      "text/plain": [
       "[5, 4, 9, 8, 7, 1, 3, 2, 6]"
      ]
     },
     "execution_count": 18,
     "metadata": {},
     "output_type": "execute_result"
    }
   ],
   "source": [
    "liste = [1, 2, 3, 4, 5, 6, 7, 8, 9]\n",
    "#mélange\n",
    "random.shuffle(liste)\n",
    "liste"
   ]
  },
  {
   "cell_type": "code",
   "execution_count": 7,
   "metadata": {},
   "outputs": [
    {
     "data": {
      "text/plain": [
       "['j', 'i', 'e', 'c', 'd']"
      ]
     },
     "execution_count": 7,
     "metadata": {},
     "output_type": "execute_result"
    }
   ],
   "source": [
    "liste = ['a', 'b', 'c', 'd', 'e', 'f', 'g', 'h', 'i', 'j']\n",
    "#échantillon aléatoire de 5 élèments\n",
    "random.sample(liste, 5)"
   ]
  },
  {
   "cell_type": "code",
   "execution_count": 6,
   "metadata": {},
   "outputs": [
    {
     "data": {
      "text/plain": [
       "[160, 895, 740, 807, 50, 381, 899, 689, 769, 20]"
      ]
     },
     "execution_count": 6,
     "metadata": {},
     "output_type": "execute_result"
    }
   ],
   "source": [
    "# autre exemple\n",
    "random.sample(range(1000), 10)"
   ]
  },
  {
   "cell_type": "code",
   "execution_count": null,
   "metadata": {},
   "outputs": [],
   "source": []
  }
 ],
 "metadata": {
  "kernelspec": {
   "display_name": "Python 3",
   "language": "python",
   "name": "python3"
  },
  "language_info": {
   "codemirror_mode": {
    "name": "ipython",
    "version": 3
   },
   "file_extension": ".py",
   "mimetype": "text/x-python",
   "name": "python",
   "nbconvert_exporter": "python",
   "pygments_lexer": "ipython3",
   "version": "3.7.6"
  }
 },
 "nbformat": 4,
 "nbformat_minor": 4
}
